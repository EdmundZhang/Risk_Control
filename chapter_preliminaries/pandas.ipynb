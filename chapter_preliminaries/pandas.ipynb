{
  "cells": [
    {
      "cell_type": "code",
      "execution_count": 2,
      "id": "ee72fd16",
      "metadata": {
        "execution": {
          "iopub.execute_input": "2023-08-18T07:03:38.903209Z",
          "iopub.status.busy": "2023-08-18T07:03:38.902351Z",
          "iopub.status.idle": "2023-08-18T07:03:38.918117Z",
          "shell.execute_reply": "2023-08-18T07:03:38.916775Z"
        },
        "origin_pos": 1,
        "tab": [
          "pytorch"
        ],
        "id": "ee72fd16"
      },
      "outputs": [],
      "source": [
        "import os\n",
        "\n",
        "os.makedirs(os.path.join('..', 'data'), exist_ok=True)\n",
        "data_file = os.path.join('..', 'data', 'house_tiny.csv')\n",
        "with open(data_file, 'w') as f:\n",
        "    f.write('NumRooms,Alley,Price\\n')  # 列名\n",
        "    f.write('NA,Pave,127500\\n')  # 每行表示一个数据样本\n",
        "    f.write('2,NA,106000\\n')\n",
        "    f.write('4,NA,178100\\n')\n",
        "    f.write('NA,NA,140000\\n')"
      ]
    },
    {
      "cell_type": "code",
      "execution_count": 3,
      "id": "5fb16e52",
      "metadata": {
        "execution": {
          "iopub.execute_input": "2023-08-18T07:03:38.923957Z",
          "iopub.status.busy": "2023-08-18T07:03:38.923101Z",
          "iopub.status.idle": "2023-08-18T07:03:39.372116Z",
          "shell.execute_reply": "2023-08-18T07:03:39.371151Z"
        },
        "origin_pos": 3,
        "tab": [
          "pytorch"
        ],
        "colab": {
          "base_uri": "https://localhost:8080/"
        },
        "id": "5fb16e52",
        "outputId": "206e1a71-fcc7-409d-e131-d441c19fd303"
      },
      "outputs": [
        {
          "output_type": "stream",
          "name": "stdout",
          "text": [
            "   NumRooms Alley   Price\n",
            "0       NaN  Pave  127500\n",
            "1       2.0   NaN  106000\n",
            "2       4.0   NaN  178100\n",
            "3       NaN   NaN  140000\n"
          ]
        }
      ],
      "source": [
        "# 如果没有安装pandas，只需取消对以下行的注释来安装pandas\n",
        "# !pip install pandas\n",
        "import pandas as pd\n",
        "\n",
        "data = pd.read_csv(data_file)\n",
        "print(data)"
      ]
    },
    {
      "cell_type": "code",
      "execution_count": 5,
      "id": "d460a301",
      "metadata": {
        "execution": {
          "iopub.execute_input": "2023-08-18T07:03:39.375828Z",
          "iopub.status.busy": "2023-08-18T07:03:39.375535Z",
          "iopub.status.idle": "2023-08-18T07:03:39.389220Z",
          "shell.execute_reply": "2023-08-18T07:03:39.387998Z"
        },
        "origin_pos": 5,
        "tab": [
          "pytorch"
        ],
        "colab": {
          "base_uri": "https://localhost:8080/"
        },
        "id": "d460a301",
        "outputId": "35c76773-7ba2-42ff-ebf6-623d4261f256"
      },
      "outputs": [
        {
          "output_type": "stream",
          "name": "stdout",
          "text": [
            "   NumRooms Alley\n",
            "0       3.0  Pave\n",
            "1       2.0   NaN\n",
            "2       4.0   NaN\n",
            "3       3.0   NaN\n"
          ]
        }
      ],
      "source": [
        "inputs, outputs = data.iloc[:, 0:2], data.iloc[:, 2]\n",
        "#inputs = inputs.fillna(inputs.mean())\n",
        "\n",
        "\n",
        "# 筛选数值列\n",
        "numeric_cols = inputs.select_dtypes(include=['int64', 'float64']).columns\n",
        "# 仅填充数值列\n",
        "inputs[numeric_cols] = inputs[numeric_cols].fillna(inputs[numeric_cols].mean())\n",
        "print(inputs)"
      ]
    },
    {
      "cell_type": "code",
      "execution_count": 6,
      "id": "09ab8738",
      "metadata": {
        "execution": {
          "iopub.execute_input": "2023-08-18T07:03:39.394176Z",
          "iopub.status.busy": "2023-08-18T07:03:39.393444Z",
          "iopub.status.idle": "2023-08-18T07:03:39.409892Z",
          "shell.execute_reply": "2023-08-18T07:03:39.408559Z"
        },
        "origin_pos": 7,
        "tab": [
          "pytorch"
        ],
        "colab": {
          "base_uri": "https://localhost:8080/"
        },
        "id": "09ab8738",
        "outputId": "b825d574-6faf-40c5-94eb-84d3a4997c0b"
      },
      "outputs": [
        {
          "output_type": "stream",
          "name": "stdout",
          "text": [
            "   NumRooms  Alley_Pave  Alley_nan\n",
            "0       3.0        True      False\n",
            "1       2.0       False       True\n",
            "2       4.0       False       True\n",
            "3       3.0       False       True\n"
          ]
        }
      ],
      "source": [
        "inputs = pd.get_dummies(inputs, dummy_na=True)\n",
        "print(inputs)"
      ]
    },
    {
      "cell_type": "markdown",
      "id": "ea1dd875",
      "metadata": {
        "origin_pos": 8,
        "id": "ea1dd875"
      },
      "source": [
        "## 转换为张量格式\n",
        "\n",
        "[**现在`inputs`和`outputs`中的所有条目都是数值类型，它们可以转换为张量格式。**]\n",
        "当数据采用张量格式后，可以通过在 :numref:`sec_ndarray`中引入的那些张量函数来进一步操作。\n"
      ]
    },
    {
      "cell_type": "code",
      "source": [
        "print(inputs);\n",
        "print(outputs);"
      ],
      "metadata": {
        "id": "s0VR1P55Ko-m",
        "outputId": "78140d46-a68a-40f8-877a-a95e5a31ebbd",
        "colab": {
          "base_uri": "https://localhost:8080/"
        }
      },
      "id": "s0VR1P55Ko-m",
      "execution_count": 7,
      "outputs": [
        {
          "output_type": "stream",
          "name": "stdout",
          "text": [
            "   NumRooms  Alley_Pave  Alley_nan\n",
            "0       3.0        True      False\n",
            "1       2.0       False       True\n",
            "2       4.0       False       True\n",
            "3       3.0       False       True\n",
            "0    127500\n",
            "1    106000\n",
            "2    178100\n",
            "3    140000\n",
            "Name: Price, dtype: int64\n"
          ]
        }
      ]
    },
    {
      "cell_type": "code",
      "execution_count": 8,
      "id": "4f551c6d",
      "metadata": {
        "execution": {
          "iopub.execute_input": "2023-08-18T07:03:39.414531Z",
          "iopub.status.busy": "2023-08-18T07:03:39.413831Z",
          "iopub.status.idle": "2023-08-18T07:03:40.467689Z",
          "shell.execute_reply": "2023-08-18T07:03:40.466637Z"
        },
        "origin_pos": 10,
        "tab": [
          "pytorch"
        ],
        "colab": {
          "base_uri": "https://localhost:8080/"
        },
        "id": "4f551c6d",
        "outputId": "7358a36b-e9a9-4a3e-b5ea-55a315d5bee8"
      },
      "outputs": [
        {
          "output_type": "execute_result",
          "data": {
            "text/plain": [
              "(tensor([[3., 1., 0.],\n",
              "         [2., 0., 1.],\n",
              "         [4., 0., 1.],\n",
              "         [3., 0., 1.]], dtype=torch.float64),\n",
              " tensor([127500., 106000., 178100., 140000.], dtype=torch.float64))"
            ]
          },
          "metadata": {},
          "execution_count": 8
        }
      ],
      "source": [
        "import torch\n",
        "\n",
        "X = torch.tensor(inputs.to_numpy(dtype=float))\n",
        "y = torch.tensor(outputs.to_numpy(dtype=float))\n",
        "X, y"
      ]
    },
    {
      "cell_type": "code",
      "source": [
        "X.shape"
      ],
      "metadata": {
        "id": "Fiy-xzfJyOk6",
        "outputId": "2bb68356-014e-4d05-b0d9-8fdc0ab7aab6",
        "colab": {
          "base_uri": "https://localhost:8080/"
        }
      },
      "id": "Fiy-xzfJyOk6",
      "execution_count": 12,
      "outputs": [
        {
          "output_type": "execute_result",
          "data": {
            "text/plain": [
              "torch.Size([4, 3])"
            ]
          },
          "metadata": {},
          "execution_count": 12
        }
      ]
    },
    {
      "cell_type": "markdown",
      "id": "dbcbca0d",
      "metadata": {
        "origin_pos": 13,
        "id": "dbcbca0d"
      },
      "source": [
        "## 小结\n",
        "\n",
        "* `pandas`软件包是Python中常用的数据分析工具中，`pandas`可以与张量兼容。\n",
        "* 用`pandas`处理缺失的数据时，我们可根据情况选择用插值法和删除法。\n",
        "\n",
        "## 练习\n",
        "\n",
        "创建包含更多行和列的原始数据集。\n",
        "\n",
        "1. 删除缺失值最多的列。\n",
        "2. 将预处理后的数据集转换为张量格式。\n"
      ]
    },
    {
      "cell_type": "markdown",
      "id": "7b8c6c96",
      "metadata": {
        "origin_pos": 15,
        "tab": [
          "pytorch"
        ],
        "id": "7b8c6c96"
      },
      "source": [
        "[Discussions](https://discuss.d2l.ai/t/1750)\n"
      ]
    }
  ],
  "metadata": {
    "kernelspec": {
      "display_name": "Python 3",
      "name": "python3"
    },
    "language_info": {
      "name": "python"
    },
    "required_libs": [],
    "colab": {
      "provenance": []
    }
  },
  "nbformat": 4,
  "nbformat_minor": 5
}